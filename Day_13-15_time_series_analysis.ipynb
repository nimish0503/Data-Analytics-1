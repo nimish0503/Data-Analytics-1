{
 "cells": [
  {
   "cell_type": "markdown",
   "id": "ad9eae5a",
   "metadata": {},
   "source": [
    "# Time Series Analysis: Population and Migration Trends"
   ]
  },
  {
   "cell_type": "markdown",
   "id": "297926bd",
   "metadata": {},
   "source": [
    "\n",
    "This notebook performs a comprehensive time series analysis on a dataset of population and migration trends for Afghanistan.\n",
    "We will explore the following steps:\n",
    "1. **Data Exploration and Visualization**\n",
    "2. **Time Series Decomposition**\n",
    "3. **Trend Estimation**\n",
    "4. **Exponential Smoothing**\n",
    "5. **ARIMA Forecasting**\n",
    "6. **Model Evaluation**\n",
    "\n",
    "Each step includes detailed code, plots, and insights.\n",
    "    "
   ]
  },
  {
   "cell_type": "markdown",
   "id": "570db3ff",
   "metadata": {},
   "source": [
    "## 1. Data Loading and Exploration"
   ]
  },
  {
   "cell_type": "code",
   "execution_count": null,
   "id": "27fa133d",
   "metadata": {},
   "outputs": [],
   "source": [
    "\n",
    "# Import necessary libraries\n",
    "import pandas as pd\n",
    "import matplotlib.pyplot as plt\n",
    "\n",
    "# Load the dataset\n",
    "file_path = 'world_pop_mig_186_countries.csv'\n",
    "data = pd.read_csv(file_path)\n",
    "\n",
    "# Filter data for Afghanistan\n",
    "country_data = data[data['country'] == 'Afghanistan']\n",
    "\n",
    "# Plot population and net migration trends\n",
    "plt.figure(figsize=(14, 6))\n",
    "plt.plot(country_data['year'], country_data['population'], label='Population', marker='o')\n",
    "plt.plot(country_data['year'], country_data['netMigration'], label='Net Migration', marker='o', linestyle='--')\n",
    "plt.gca().invert_xaxis()  # Reverse x-axis for chronological order\n",
    "plt.title('Population and Net Migration Over Time (Afghanistan)')\n",
    "plt.xlabel('Year')\n",
    "plt.ylabel('Values')\n",
    "plt.legend()\n",
    "plt.grid()\n",
    "plt.show()\n",
    "    "
   ]
  },
  {
   "cell_type": "markdown",
   "id": "91423265",
   "metadata": {},
   "source": [
    "## 2. Time Series Decomposition"
   ]
  },
  {
   "cell_type": "code",
   "execution_count": null,
   "id": "a64de60d",
   "metadata": {},
   "outputs": [],
   "source": [
    "\n",
    "from statsmodels.tsa.seasonal import seasonal_decompose\n",
    "\n",
    "# Set the year as the index and sort\n",
    "country_data = country_data.sort_values('year')\n",
    "country_data.set_index('year', inplace=True)\n",
    "\n",
    "# Decompose the population series\n",
    "decomposition = seasonal_decompose(country_data['population'], model='additive', period=1)\n",
    "\n",
    "# Plot decomposition components\n",
    "fig = decomposition.plot()\n",
    "fig.set_size_inches(14, 10)\n",
    "plt.show()\n",
    "    "
   ]
  },
  {
   "cell_type": "markdown",
   "id": "e6d18f14",
   "metadata": {},
   "source": [
    "## 3. Trend Estimation (SMA and WMA)"
   ]
  },
  {
   "cell_type": "code",
   "execution_count": null,
   "id": "75024850",
   "metadata": {},
   "outputs": [],
   "source": [
    "\n",
    "# Simple Moving Average (SMA)\n",
    "country_data['SMA_5'] = country_data['population'].rolling(window=5).mean()\n",
    "\n",
    "# Weighted Moving Average (WMA)\n",
    "weights = [0.1, 0.2, 0.3, 0.4]  # Example weights\n",
    "weights = weights[::-1]  # Reverse weights for chronological order\n",
    "country_data['WMA_4'] = country_data['population'].rolling(window=4).apply(\n",
    "    lambda x: sum(w * val for w, val in zip(weights, x)) if len(x) == 4 else None\n",
    ")\n",
    "\n",
    "# Plot SMA and WMA\n",
    "plt.figure(figsize=(14, 6))\n",
    "plt.plot(country_data.index, country_data['population'], label='Original Population', marker='o')\n",
    "plt.plot(country_data.index, country_data['SMA_5'], label='SMA (5 years)', linestyle='--')\n",
    "plt.plot(country_data.index, country_data['WMA_4'], label='WMA (4 years)', linestyle='-.')\n",
    "plt.gca().invert_xaxis()\n",
    "plt.title('Simple and Weighted Moving Averages (Population)')\n",
    "plt.xlabel('Year')\n",
    "plt.ylabel('Population')\n",
    "plt.legend()\n",
    "plt.grid()\n",
    "plt.show()\n",
    "    "
   ]
  },
  {
   "cell_type": "markdown",
   "id": "95e46bd6",
   "metadata": {},
   "source": [
    "## 4. Exponential Smoothing"
   ]
  },
  {
   "cell_type": "code",
   "execution_count": null,
   "id": "9e7724c9",
   "metadata": {},
   "outputs": [],
   "source": [
    "\n",
    "from statsmodels.tsa.holtwinters import SimpleExpSmoothing, ExponentialSmoothing\n",
    "\n",
    "# Single Exponential Smoothing (SES)\n",
    "ses_model = SimpleExpSmoothing(country_data['population']).fit(smoothing_level=0.2, optimized=False)\n",
    "country_data['SES'] = ses_model.fittedvalues\n",
    "\n",
    "# Holt’s Linear Trend\n",
    "holt_model = ExponentialSmoothing(country_data['population'], trend='additive', seasonal=None).fit(smoothing_level=0.8, smoothing_trend=0.2)\n",
    "country_data['Holt'] = holt_model.fittedvalues\n",
    "\n",
    "# Holt-Winters (Triple Exponential Smoothing)\n",
    "holt_winters_model = ExponentialSmoothing(country_data['population'], trend='additive', seasonal='additive', seasonal_periods=5).fit()\n",
    "country_data['Holt_Winters'] = holt_winters_model.fittedvalues\n",
    "\n",
    "# Plot Exponential Smoothing Results\n",
    "plt.figure(figsize=(14, 6))\n",
    "plt.plot(country_data.index, country_data['population'], label='Original Population', marker='o')\n",
    "plt.plot(country_data.index, country_data['SES'], label='SES', linestyle='--')\n",
    "plt.plot(country_data.index, country_data['Holt'], label='Holt’s Linear Trend', linestyle='-.')\n",
    "plt.plot(country_data.index, country_data['Holt_Winters'], label='Holt-Winters', linestyle=':')\n",
    "plt.gca().invert_xaxis()\n",
    "plt.title('Exponential Smoothing Methods')\n",
    "plt.xlabel('Year')\n",
    "plt.ylabel('Population')\n",
    "plt.legend()\n",
    "plt.grid()\n",
    "plt.show()\n",
    "    "
   ]
  },
  {
   "cell_type": "markdown",
   "id": "08909ebb",
   "metadata": {},
   "source": [
    "## 5. ARIMA Forecasting"
   ]
  },
  {
   "cell_type": "code",
   "execution_count": null,
   "id": "6f8015ba",
   "metadata": {},
   "outputs": [],
   "source": [
    "\n",
    "from statsmodels.tsa.arima.model import ARIMA\n",
    "from statsmodels.graphics.tsaplots import plot_acf, plot_pacf\n",
    "\n",
    "# Plot ACF and PACF\n",
    "plt.figure(figsize=(14, 6))\n",
    "plt.subplot(1, 2, 1)\n",
    "plot_acf(country_data['population'], lags=20, ax=plt.gca())\n",
    "plt.subplot(1, 2, 2)\n",
    "plot_pacf(country_data['population'], lags=20, ax=plt.gca())\n",
    "plt.tight_layout()\n",
    "plt.show()\n",
    "\n",
    "# Fit ARIMA model (order = (1, 1, 1))\n",
    "arima_model = ARIMA(country_data['population'], order=(1, 1, 1)).fit()\n",
    "\n",
    "# Forecast future values\n",
    "forecast_steps = 10\n",
    "forecast = arima_model.forecast(steps=forecast_steps)\n",
    "\n",
    "# Plot forecast\n",
    "plt.figure(figsize=(14, 6))\n",
    "plt.plot(country_data.index, country_data['population'], label='Original Population', marker='o')\n",
    "plt.plot(range(country_data.index[-1] + 1, country_data.index[-1] + 1 + forecast_steps), forecast, label='ARIMA Forecast', marker='x')\n",
    "plt.gca().invert_xaxis()\n",
    "plt.title('ARIMA Forecasting')\n",
    "plt.xlabel('Year')\n",
    "plt.ylabel('Population')\n",
    "plt.legend()\n",
    "plt.grid()\n",
    "plt.show()\n",
    "    "
   ]
  },
  {
   "cell_type": "markdown",
   "id": "78f18a28",
   "metadata": {},
   "source": [
    "## 6. Model Evaluation"
   ]
  },
  {
   "cell_type": "code",
   "execution_count": null,
   "id": "93b0d242",
   "metadata": {},
   "outputs": [],
   "source": [
    "\n",
    "from sklearn.metrics import mean_absolute_error, mean_squared_error\n",
    "import numpy as np\n",
    "\n",
    "# Evaluation metrics for all models\n",
    "models = ['SES', 'Holt', 'Holt_Winters']\n",
    "metrics = {}\n",
    "\n",
    "for model in models:\n",
    "    mae = mean_absolute_error(country_data['population'], country_data[model])\n",
    "    rmse = np.sqrt(mean_squared_error(country_data['population'], country_data[model]))\n",
    "    metrics[model] = {'MAE': mae, 'RMSE': rmse}\n",
    "\n",
    "# ARIMA metrics\n",
    "arima_predictions = arima_model.fittedvalues[1:]  # Align predictions with data\n",
    "arima_mae = mean_absolute_error(country_data['population'][1:], arima_predictions)\n",
    "arima_rmse = np.sqrt(mean_squared_error(country_data['population'][1:], arima_predictions))\n",
    "metrics['ARIMA'] = {'MAE': arima_mae, 'RMSE': arima_rmse}\n",
    "\n",
    "# Display metrics\n",
    "metrics_df = pd.DataFrame(metrics).T\n",
    "metrics_df\n",
    "    "
   ]
  }
 ],
 "metadata": {},
 "nbformat": 4,
 "nbformat_minor": 5
}